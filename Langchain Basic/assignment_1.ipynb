{
 "cells": [
  {
   "cell_type": "code",
   "execution_count": 1,
   "metadata": {},
   "outputs": [
    {
     "data": {
      "text/plain": [
       "True"
      ]
     },
     "execution_count": 1,
     "metadata": {},
     "output_type": "execute_result"
    }
   ],
   "source": [
    "import os\n",
    "from dotenv import load_dotenv\n",
    "load_dotenv()"
   ]
  },
  {
   "cell_type": "code",
   "execution_count": 3,
   "metadata": {},
   "outputs": [],
   "source": [
    "os.environ[\"GROQ_API_KEY\"] = os.getenv(\"GROQ_API_KEY\")\n",
    "os.environ[\"LANGCHAIN_TRACING_V2\"] = \"true\"\n",
    "os.environ[\"LANGCHAIN_API_KEY\"] = os.getenv(\"LANGCHAIN_API_KEY\")\n",
    "os.environ[\"LANGCHAIN_PROJECT\"] = \"Agentic AI Assignment\""
   ]
  },
  {
   "cell_type": "code",
   "execution_count": 11,
   "metadata": {},
   "outputs": [],
   "source": [
    "# Loading necessary libraries\n",
    "from pydantic import BaseModel,Field\n",
    "from langchain_core.prompts import ChatPromptTemplate\n",
    "from langchain_core.output_parsers import PydanticOutputParser\n",
    "from langchain_groq import ChatGroq\n",
    "\n",
    "class Product(BaseModel):\n",
    "    product_name : str = Field(description=\"Name of the product\")\n",
    "    product_detail : str = Field(description=\"Details of the Product\")\n",
    "    tentative_price : float = Field(description=\"Price of the Product shoulb be in USD\")\n",
    "\n",
    "parser = PydanticOutputParser(pydantic_object=Product)\n",
    "format_instructions = parser.get_format_instructions()"
   ]
  },
  {
   "cell_type": "code",
   "execution_count": 14,
   "metadata": {},
   "outputs": [
    {
     "name": "stdout",
     "output_type": "stream",
     "text": [
      "product_name='SmartBottle X' product_detail='a self-cleaning stainless steel water bottle with UV-C technology that kills 99.99% of bacteria.  Ideal for travelers and health-conscious users.' tentative_price=79.0\n"
     ]
    }
   ],
   "source": [
    "template = ChatPromptTemplate.from_messages(\n",
    "    [\n",
    "        (\"system\",\"You are a helpful ai assistance that extracts product information in structured JSON format \"\n",
    "         \"compatible with the following schema: {format_instructions} and price should only be in USD\"),\n",
    "        (\"user\",\"{input}\")\n",
    "    ]\n",
    ")\n",
    "model = ChatGroq(model = \"gemma2-9b-it\")\n",
    "chain = template | model | parser\n",
    "\n",
    "input_text = \"Introducing the SmartBottle X — a self-cleaning stainless steel water bottle with UV-C technology that kills 99.99% of bacteria.  Ideal for travelers and health-conscious users. Estimated price: around 79 USD.\"\n",
    "result = chain.invoke({\"input\" : input_text,\n",
    "                       \"format_instructions\" : format_instructions})\n",
    "print(result)"
   ]
  },
  {
   "cell_type": "code",
   "execution_count": null,
   "metadata": {},
   "outputs": [],
   "source": []
  }
 ],
 "metadata": {
  "kernelspec": {
   "display_name": "env",
   "language": "python",
   "name": "python3"
  },
  "language_info": {
   "codemirror_mode": {
    "name": "ipython",
    "version": 3
   },
   "file_extension": ".py",
   "mimetype": "text/x-python",
   "name": "python",
   "nbconvert_exporter": "python",
   "pygments_lexer": "ipython3",
   "version": "3.13.3"
  }
 },
 "nbformat": 4,
 "nbformat_minor": 2
}
